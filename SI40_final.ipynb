{
 "cells": [
  {
   "cell_type": "markdown",
   "metadata": {},
   "source": [
    "Simulation of $\\epsilon$ - greedy"
   ]
  },
  {
   "cell_type": "code",
   "execution_count": 5,
   "metadata": {},
   "outputs": [
    {
     "name": "stdout",
     "output_type": "stream",
     "text": [
      "epsilon =  0.2 Expectation =  4598.065326633166\n",
      "epsilon =  0.4 Expectation =  4400.78391959799\n",
      "epsilon =  0.6 Expectation =  4198.572864321608\n",
      "epsilon =  0.8 Expectation =  3996.1557788944724\n"
     ]
    }
   ],
   "source": [
    "import numpy as np\n",
    "\n",
    "theta_hat = [0, 0, 0]\n",
    "count = [0, 0, 0]\n",
    "N = 6000\n",
    "Epsilon = [0.2, 0.4, 0.6, 0.8]\n",
    "Theta_j = [0.8, 0.6, 0.5]\n",
    "for epsilon in Epsilon:\n",
    "    experiment_result = [0]\n",
    "    for i in range(1, 200):# 200 independent runs\n",
    "        total = 0\n",
    "        for t in range(0, N):\n",
    "            ## random choose from 1,2,3\n",
    "            randomly_chosen = np.random.choice([1, 2, 3])\n",
    "            ## arg max theta hat j\n",
    "            arg_max = np.argmax(theta_hat) + 1\n",
    "\n",
    "            I_t = np.random.choice([arg_max, randomly_chosen], p =[1 - epsilon, epsilon])\n",
    "            count[I_t - 1] = count[I_t - 1] + 1\n",
    "            ## sampling\n",
    "            r = np.random.choice([1, 0], p = [Theta_j[I_t - 1], 1 - Theta_j[I_t - 1]])\n",
    "            total = total + r\n",
    "            ##\n",
    "            theta_hat[I_t - 1] = theta_hat[I_t - 1] + (1/count[I_t - 1]) * (r - theta_hat[I_t-1])\n",
    "        experiment_result.append(total)\n",
    "    experiment_result.pop(0)\n",
    "    expectation = np.mean(experiment_result)\n",
    "    print ( \"epsilon = \", epsilon, \"Expectation = \", expectation)"
   ]
  },
  {
   "cell_type": "markdown",
   "metadata": {},
   "source": [
    "Simulation of UCB"
   ]
  },
  {
   "cell_type": "code",
   "execution_count": 6,
   "metadata": {},
   "outputs": [
    {
     "name": "stdout",
     "output_type": "stream",
     "text": [
      "c =  2    Expectation =  4540.939698492462\n",
      "c =  6    Expectation =  4141.35175879397\n",
      "c =  9    Expectation =  4030.321608040201\n"
     ]
    }
   ],
   "source": [
    "import numpy as np\n",
    "\n",
    "theta_hat = [0, 0, 0]\n",
    "count = [0, 0, 0]\n",
    "N = 6000\n",
    "Theta_j = [0.8, 0.6, 0.5]\n",
    "c = 0#\n",
    "Cs = [2, 6, 9]\n",
    "for c in Cs:\n",
    "    experiment_result = [0]\n",
    "    for i in range(1, 200):\n",
    "        total = 0\n",
    "        for t in {1, 2, 3}:\n",
    "            I_t = t\n",
    "            count[I_t - 1] = 1\n",
    "            ## sampling\n",
    "            r = np.random.choice([1, 0], p=[Theta_j[I_t - 1], 1 - Theta_j[I_t - 1]])\n",
    "            total = total + r\n",
    "            theta_hat[I_t - 1] = r\n",
    "        for t in range(4, N):\n",
    "            I_t = np.argmax(theta_hat + c * np.sqrt(2 * np.log(t)/count)) + 1\n",
    "            count[I_t - 1] = count[I_t - 1] + 1\n",
    "            ## sampling\n",
    "            r = np.random.choice([1, 0], p=[Theta_j[I_t - 1], 1 - Theta_j[I_t - 1]])\n",
    "            total = total + r\n",
    "\n",
    "            theta_hat[I_t - 1] = theta_hat[I_t - 1] + (1/count[I_t - 1]) * (r - theta_hat[I_t-1])\n",
    "        experiment_result.append(total)\n",
    "    experiment_result.pop(0)\n",
    "    expectation = np.mean(experiment_result)\n",
    "    print(\"c = \", c, \"   Expectation = \", expectation)"
   ]
  },
  {
   "cell_type": "markdown",
   "metadata": {},
   "source": [
    "Simulation of TS"
   ]
  },
  {
   "cell_type": "code",
   "execution_count": 1,
   "metadata": {},
   "outputs": [
    {
     "name": "stdout",
     "output_type": "stream",
     "text": [
      "Final (alpha, beta) =  [[954828, 238818], [78, 45], [17, 21]]    Expectation =  4798.592964824121\n",
      "Final (alpha, beta) =  [[956328, 238454], [401, 601], [10, 16]]    Expectation =  4802.688442211055\n"
     ]
    }
   ],
   "source": [
    "import numpy as np\n",
    "\n",
    "theta_hat = [0, 0, 0]\n",
    "count = [0, 0, 0]\n",
    "N = 6000\n",
    "Theta_j = [0.8, 0.6, 0.5]\n",
    "alpha_betaS = [[[1, 1], [1, 1], [1, 1]], [[601, 401], [401, 601], [2, 3]]]\n",
    "for alpha_beta in alpha_betaS:\n",
    "    experiment_result = [0]\n",
    "    for i in range(1, 200):\n",
    "        total = 0\n",
    "        for t in range(1, N):\n",
    "            for j in [1, 2, 3]:\n",
    "                theta_hat[j - 1] = np.random.beta(alpha_beta[j - 1][0], alpha_beta[j - 1][1])\n",
    "            I_t = np.argmax(theta_hat) + 1\n",
    "            ## sampling\n",
    "            r = np.random.choice([1, 0], p=[Theta_j[I_t - 1], 1 - Theta_j[I_t - 1]])\n",
    "            total = total + r\n",
    "\n",
    "            alpha_beta[I_t - 1][0] = alpha_beta[I_t - 1][0] + r\n",
    "            alpha_beta[I_t - 1][1] = alpha_beta[I_t - 1][1] + 1 - r\n",
    "\n",
    "        experiment_result.append(total)\n",
    "    experiment_result.pop(0)\n",
    "    expectation = np.mean(experiment_result)\n",
    "    print(\"Final (alpha, beta) = \", alpha_beta, \"   Expectation = \", expectation)\n",
    "\n"
   ]
  }
 ],
 "metadata": {
  "kernelspec": {
   "display_name": "Python 3",
   "language": "python",
   "name": "python3"
  },
  "language_info": {
   "codemirror_mode": {
    "name": "ipython",
    "version": 3
   },
   "file_extension": ".py",
   "mimetype": "text/x-python",
   "name": "python",
   "nbconvert_exporter": "python",
   "pygments_lexer": "ipython3",
   "version": "3.7.1"
  }
 },
 "nbformat": 4,
 "nbformat_minor": 2
}
